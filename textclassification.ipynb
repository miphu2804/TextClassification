{
  "nbformat": 4,
  "nbformat_minor": 0,
  "metadata": {
    "colab": {
      "provenance": [],
      "authorship_tag": "ABX9TyNnqZqy8Ep0UTwTrtsnV2o+",
      "include_colab_link": true
    },
    "kernelspec": {
      "name": "python3",
      "display_name": "Python 3"
    },
    "language_info": {
      "name": "python"
    }
  },
  "cells": [
    {
      "cell_type": "markdown",
      "metadata": {
        "id": "view-in-github",
        "colab_type": "text"
      },
      "source": [
        "<a href=\"https://colab.research.google.com/github/miphu2804/TextClassification/blob/main/textclassification.ipynb\" target=\"_parent\"><img src=\"https://colab.research.google.com/assets/colab-badge.svg\" alt=\"Open In Colab\"/></a>"
      ]
    },
    {
      "cell_type": "code",
      "execution_count": null,
      "metadata": {
        "colab": {
          "base_uri": "https://localhost:8080/"
        },
        "collapsed": true,
        "id": "rIv24izBfZnA",
        "outputId": "28ee4ed4-e91e-4cfb-ddf7-29fad613a7eb"
      },
      "outputs": [
        {
          "output_type": "stream",
          "name": "stderr",
          "text": [
            "[nltk_data] Downloading package stopwords to /root/nltk_data...\n",
            "[nltk_data]   Package stopwords is already up-to-date!\n",
            "[nltk_data] Downloading package wordnet to /root/nltk_data...\n",
            "[nltk_data]   Package wordnet is already up-to-date!\n"
          ]
        }
      ],
      "source": [
        "import numpy as np\n",
        "import pandas as pd\n",
        "import seaborn as sns\n",
        "import matplotlib.pyplot as plt\n",
        "import re\n",
        "import nltk\n",
        "nltk.download('stopwords')\n",
        "nltk.download('wordnet')\n",
        "import string\n",
        "from nltk.corpus import stopwords\n",
        "from nltk.stem import WordNetLemmatizer\n",
        "from bs4 import BeautifulSoup\n",
        "from sklearn.model_selection import train_test_split"
      ]
    },
    {
      "cell_type": "code",
      "source": [
        "!pip install contractions"
      ],
      "metadata": {
        "colab": {
          "base_uri": "https://localhost:8080/"
        },
        "id": "jYeD0YVNqhkL",
        "outputId": "9689f0d8-b606-40b5-84f4-4c08fcedd5e1"
      },
      "execution_count": null,
      "outputs": [
        {
          "output_type": "stream",
          "name": "stdout",
          "text": [
            "Requirement already satisfied: contractions in /usr/local/lib/python3.10/dist-packages (0.1.73)\n",
            "Requirement already satisfied: textsearch>=0.0.21 in /usr/local/lib/python3.10/dist-packages (from contractions) (0.0.24)\n",
            "Requirement already satisfied: anyascii in /usr/local/lib/python3.10/dist-packages (from textsearch>=0.0.21->contractions) (0.3.2)\n",
            "Requirement already satisfied: pyahocorasick in /usr/local/lib/python3.10/dist-packages (from textsearch>=0.0.21->contractions) (2.1.0)\n"
          ]
        }
      ]
    },
    {
      "cell_type": "code",
      "source": [
        "!pip install lxml"
      ],
      "metadata": {
        "colab": {
          "base_uri": "https://localhost:8080/"
        },
        "id": "rjTPZMZQvc9h",
        "outputId": "e6b8aa9e-57d7-4c26-da70-dcceda71a06c"
      },
      "execution_count": null,
      "outputs": [
        {
          "output_type": "stream",
          "name": "stdout",
          "text": [
            "Requirement already satisfied: lxml in /usr/local/lib/python3.10/dist-packages (4.9.4)\n"
          ]
        }
      ]
    },
    {
      "cell_type": "code",
      "source": [
        "import contractions"
      ],
      "metadata": {
        "id": "hPsBiJn_qnwM"
      },
      "execution_count": null,
      "outputs": []
    },
    {
      "cell_type": "code",
      "source": [
        "data = pd.read_csv('/content/IMDB-Dataset (1).csv')\n",
        "data.head()\n",
        "print(len(data))\n",
        "data = data.drop_duplicates()"
      ],
      "metadata": {
        "colab": {
          "base_uri": "https://localhost:8080/"
        },
        "id": "SyXm78pifypI",
        "outputId": "14b46806-b787-46e7-a1e1-7dff3a720b1d"
      },
      "execution_count": null,
      "outputs": [
        {
          "output_type": "stream",
          "name": "stdout",
          "text": [
            "50000\n"
          ]
        }
      ]
    },
    {
      "cell_type": "code",
      "source": [
        "#Số samples bị trùng\n",
        "numberOfDupSamples = len(data) - len(data.drop_duplicates())\n",
        "print(numberOfDupSamples)"
      ],
      "metadata": {
        "colab": {
          "base_uri": "https://localhost:8080/"
        },
        "id": "lzIAPjrdhOOg",
        "outputId": "a128ea19-1999-41ad-a42b-2c9d2c4315c3"
      },
      "execution_count": null,
      "outputs": [
        {
          "output_type": "stream",
          "name": "stdout",
          "text": [
            "418\n"
          ]
        }
      ]
    },
    {
      "cell_type": "code",
      "source": [
        "stop = set(stopwords.words('english'))\n",
        "def expandContractions(text):\n",
        "  return contractions.fix(text)\n",
        "def preprocessText(text):\n",
        "  w1 = WordNetLemmatizer()\n",
        "  soup = BeautifulSoup(text, 'lxml')\n",
        "  text = soup.get_text()\n",
        "  text = expandContractions(text)\n",
        "  emoji_clean = re.compile(\"[\\\\U0001F600-\\\\U0001F64F\\\\U0001F300-\\\\U0001F5FF\\\\U0001F680-\\\\U0001F6FF\\\\U0001F1E0-\\\\U0001F1FF\\\\U00002702-\\\\U000027B0\\\\U000024C2\\\\U0001F251]+\",flags=re.UNICODE)\n",
        "  text = emoji_clean.sub(r'', text)\n",
        "  text = re.sub(r'\\.(?=\\S)', '.', text)\n",
        "  text = re.sub(r'http\\S+', '', text)\n",
        "  text = ''.join([word.lower() for word in text if word not in string.punctuation])\n",
        "  text = contractions.fix(text)\n",
        "  # Lemmatize\n",
        "  stop = set(stopwords.words('english'))\n",
        "  wl = WordNetLemmatizer()\n",
        "  text = \" \".join([wl.lemmatize(word) for word in text.split() if word not in stop and word.isalpha()])\n",
        "  return text"
      ],
      "metadata": {
        "id": "9zcw2Z76hsS7"
      },
      "execution_count": null,
      "outputs": []
    },
    {
      "cell_type": "code",
      "source": [
        "data['review'] = data['review'].apply(preprocessText)"
      ],
      "metadata": {
        "colab": {
          "base_uri": "https://localhost:8080/"
        },
        "id": "feTvCXhqqt1q",
        "outputId": "37b6ef49-a69f-499d-d6e0-3f692cb8a3f1"
      },
      "execution_count": null,
      "outputs": [
        {
          "output_type": "stream",
          "name": "stderr",
          "text": [
            "<ipython-input-43-fd1d6681b1b9>:6: MarkupResemblesLocatorWarning: The input looks more like a filename than markup. You may want to open this file and pass the filehandle into Beautiful Soup.\n",
            "  soup = BeautifulSoup(text, 'lxml')\n"
          ]
        }
      ]
    },
    {
      "cell_type": "code",
      "source": [
        "def func(pct, allvalues):\n",
        "    absolute = int(pct / 100. * np.sum(allvalues))\n",
        "    return \"{:.1f}%\\n({:d})\".format(pct, absolute)\n",
        "\n",
        "# Calculate frequencies\n",
        "freq_pos = len(data[data['sentiment'] == 'positive'])\n",
        "freq_neg = len(data[data['sentiment'] == 'negative'])\n",
        "\n",
        "# Create data and labels\n",
        "data = [freq_pos, freq_neg]\n",
        "labels = ['positive', 'negative']\n",
        "\n",
        "# Create pie chart\n",
        "pie, ax = plt.subplots(figsize=[11, 7])\n",
        "plt.pie(x=data, autopct=lambda pct: func(pct, data), explode=[0.0025]*2,\n",
        "        pctdistance=0.5, colors=[sns.color_palette()[0], 'tab:red'], textprops={'fontsize': 16})\n",
        "\n",
        "# Add title and legend\n",
        "plt.title('Frequencies of sentiment labels', fontsize=14, fontweight='bold')\n",
        "labels = [r'Positive', r'Negative']\n",
        "plt.legend(labels, loc=\"best\", prop={'size': 14})\n",
        "\n",
        "# Save and show the plot\n",
        "pie.savefig(\"PieChart.png\")\n",
        "plt.show()"
      ],
      "metadata": {
        "colab": {
          "base_uri": "https://localhost:8080/",
          "height": 599
        },
        "id": "XhjC6WlqvkPi",
        "outputId": "dfe5ea4f-369d-45dc-d83b-a81cde70ec46"
      },
      "execution_count": null,
      "outputs": [
        {
          "output_type": "display_data",
          "data": {
            "text/plain": [
              "<Figure size 1100x700 with 1 Axes>"
            ],
            "image/png": "[encoded data removed]"
          },
          "metadata": {}
        }
      ]
    },
    {
      "cell_type": "code",
      "source": [
        "# Create a copy of the DataFrame\n",
        "data_temp = data.copy()\n",
        "\n",
        "# Calculate the number of words in each review\n",
        "data_temp['words_length'] = data['review'].str.split().map(len)\n",
        "\n",
        "# Create separate histograms for positive and negative reviews\n",
        "hist_positive = sns.displot(\n",
        "    data=data_temp[data_temp['sentiment'] == 'positive'],\n",
        "    x='words_length',\n",
        "    hue='sentiment',\n",
        "    kde=True,\n",
        "    height=7,\n",
        "    aspect=1.1,\n",
        "    legend=False,\n",
        "    palette=['green']  # Set color to green for consistency\n",
        ")\n",
        "hist_positive.set(title='Words in Positive Reviews')\n",
        "\n",
        "hist_negative = sns.displot(\n",
        "    data=data_temp[data_temp['sentiment'] == 'negative'],\n",
        "    x='words_length',\n",
        "    hue='sentiment',\n",
        "    kde=True,\n",
        "    height=7,\n",
        "    aspect=1.1,\n",
        "    legend=False,\n",
        "    palette=['red']\n",
        ")\n",
        "hist_negative.set(title='Words in Negative Reviews')\n",
        "\n",
        "# Combine both distributions into a single plot\n",
        "plt.figure(figsize=(7, 7.1))\n",
        "sns.kdeplot(\n",
        "    data=data_temp,\n",
        "    x='words_length',\n",
        "    hue='sentiment',\n",
        "    fill=True,\n",
        "    palette=['green', 'red']  # Use consistent colors\n",
        ")\n",
        "plt.title('Words in Reviews')\n",
        "plt.legend(title='Sentiment', labels=['negative', 'positive'])\n",
        "plt.show()"
      ],
      "metadata": {
        "id": "Ocuo0sMf1tOR"
      },
      "execution_count": null,
      "outputs": []
    },
    {
      "cell_type": "code",
      "source": [
        "from sklearn.feature_extraction.text import TfidfVectorizer\n",
        "from sklearn.preprocessing import LabelEncoder\n",
        "label_encoder = LabelEncoder()\n",
        "y_data = label_encoder.fit_transform(data['sentiment'])\n",
        "x_train, x_test, y_train, y_test = train_test_split(x_data, y_data, test_size=0.2, random_state=42)\n",
        "\n",
        "from sklearn.feature_extraction.text import TfidfVectorizer\n",
        "tfidf_vectorizer = TfidfVectorizer(max_features=10000)\n",
        "tfidf_vectorizer.fit(x_train, y_train)\n",
        "x_train_encoded = tfidf_vectorizer.transform(x_train)\n",
        "x_test_encoded = tfidf_vectorizer.transform(x_test)"
      ],
      "metadata": {
        "id": "7HdOoCgBxEkU"
      },
      "execution_count": null,
      "outputs": []
    },
    {
      "cell_type": "code",
      "source": [
        "from sklearn.tree import DecisionTreeClassifier\n",
        "from sklearn.ensemble import RandomForestClassifier\n",
        "from sklearn.metrics import accuracy_score\n",
        "\n",
        "dt_classifier = DecisionTreeClassifier(\n",
        "    criterion='entropy',\n",
        "    random_state=42\n",
        ")\n",
        "\n",
        "dt_classifier.fit(x_train_encoded, y_train)\n",
        "y_pred = dt_classifier.predict(x_test_encoded)\n",
        "accuracy_score(y_pred, y_test)"
      ],
      "metadata": {
        "id": "sTBcurpo09hd"
      },
      "execution_count": null,
      "outputs": []
    }
  ]
}